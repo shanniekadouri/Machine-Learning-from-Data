{
 "cells": [
  {
   "cell_type": "markdown",
   "metadata": {},
   "source": [
    "# Exercise 2: Decision Trees\n",
    "\n",
    "In this assignment you will implement a Decision Tree algorithm as learned in class.\n",
    "\n",
    "## Read the following instructions carefully:\n",
    "\n",
    "1. This jupyter notebook contains all the step by step instructions needed for this exercise.\n",
    "2. Write vectorized code whenever possible.\n",
    "3. You are responsible for the correctness of your code and should add as many tests as you see fit. Tests will not be graded nor checked.\n",
    "4. Write your functions in the provided `hw2.py` python module only. All the logic you write is imported and used in this jupyter notebook.\n",
    "5. You are allowed to use functions and methods from the [Python Standard Library](https://docs.python.org/3/library/) and [numpy](https://www.numpy.org/devdocs/reference/) only. Any other imports detected in `hw2.py` will earn you the grade of 0, even if you only used them for testing.\n",
    "6. Your code must run without errors. During the environment setup, you were given a specific version of `numpy` to install. Changes of the configuration we provided are at your own risk. Code that cannot run will also earn you the grade of 0.\n",
    "7. Write your own code. Cheating will not be tolerated. \n",
    "8. Submission includes the `hw2.py` file and this notebook. Answers to qualitative questions should be written in markdown cells (with $\\LaTeX$ support).\n",
    "9. You are allowed to include additional functions.\n",
    "10. Submission: zip only the completed jupyter notebook and the python file `hw2.py`. Do not include the data or any directories. Name the file `ID1_ID2.zip` and submit only one copy of the assignment.\n",
    "\n",
    "## In this exercise you will perform the following:\n",
    "1. Practice OOP in python.\n",
    "2. Implement two impurity measures: Gini and Entropy.\n",
    "3. Implement a decision tree from scratch.\n",
    "4. Prune the tree to achieve better results.\n",
    "5. Visualize your results and the tree."
   ]
  },
  {
   "cell_type": "code",
   "execution_count": 1,
   "metadata": {
    "deletable": false,
    "editable": false,
    "nbgrader": {
     "checksum": "63bcec20cb406a2169b49168f173c760",
     "grade": false,
     "grade_id": "cell-ed9fe7b1026e33cb",
     "locked": true,
     "schema_version": 1,
     "solution": false
    }
   },
   "outputs": [],
   "source": [
    "import numpy as np\n",
    "import pandas as pd\n",
    "import matplotlib.pyplot as plt\n",
    "from hw2 import * # this imports all functions from hw2.\n",
    "\n",
    "# make matplotlib figures appear inline in the notebook\n",
    "%matplotlib inline\n",
    "plt.rcParams['figure.figsize'] = (10.0, 8.0) # set default size of plots\n",
    "plt.rcParams['image.interpolation'] = 'nearest'\n",
    "plt.rcParams['image.cmap'] = 'gray'\n",
    "\n",
    "# Make the notebook automatically reload external python modules\n",
    "%load_ext autoreload\n",
    "%autoreload 2"
   ]
  },
  {
   "cell_type": "markdown",
   "metadata": {},
   "source": [
    "## Warmup - OOP in python\n",
    "\n",
    "Our decision tree will be implemented using a dedicated python class. Python classes are very similar to classes in Java.\n",
    "\n",
    "\n",
    "You can use the following [site](https://jeffknupp.com/blog/2014/06/18/improve-your-python-python-classes-and-object-oriented-programming/) to learn about classes in python."
   ]
  },
  {
   "cell_type": "code",
   "execution_count": 2,
   "metadata": {},
   "outputs": [],
   "source": [
    "class Node(object):\n",
    "    def __init__(self, data):\n",
    "        self.data = data\n",
    "        self.children = []\n",
    "\n",
    "    def add_child(self, node):\n",
    "        self.children.append(node)"
   ]
  },
  {
   "cell_type": "code",
   "execution_count": 3,
   "metadata": {},
   "outputs": [
    {
     "data": {
      "text/plain": [
       "[<__main__.Node at 0x10e6d5128>, <__main__.Node at 0x10e6d5240>]"
      ]
     },
     "execution_count": 3,
     "metadata": {},
     "output_type": "execute_result"
    }
   ],
   "source": [
    "n = Node(5)\n",
    "p = Node(6)\n",
    "q = Node(7)\n",
    "n.add_child(p)\n",
    "n.add_child(q)\n",
    "n.children"
   ]
  },
  {
   "cell_type": "markdown",
   "metadata": {},
   "source": [
    "## Data preprocessing\n",
    "\n",
    "We will use the breast cancer dataset that is available as a part of sklearn - a popular machine learning and data science library in python. In this example, our dataset will be a single matrix with the **labels on the last column**. Notice that you are not allowed to use additional functions from sklearn."
   ]
  },
  {
   "cell_type": "code",
   "execution_count": 4,
   "metadata": {
    "deletable": false,
    "editable": false,
    "nbgrader": {
     "checksum": "0e2620b671ce98b8a856d59ce9f95f71",
     "grade": false,
     "grade_id": "cell-d79cb4542926ad3f",
     "locked": true,
     "schema_version": 1,
     "solution": false
    }
   },
   "outputs": [
    {
     "name": "stdout",
     "output_type": "stream",
     "text": [
      "Training dataset shape:  (426, 31)\n",
      "Testing dataset shape:  (143, 31)\n"
     ]
    }
   ],
   "source": [
    "from sklearn import datasets\n",
    "from sklearn.model_selection import train_test_split\n",
    "\n",
    "# load dataset\n",
    "X, y = datasets.load_breast_cancer(return_X_y = True)\n",
    "X = np.column_stack([X,y]) # the last column holds the labels\n",
    "\n",
    "# split dataset\n",
    "X_train, X_test = train_test_split(X, random_state=99)\n",
    "\n",
    "print(\"Training dataset shape: \", X_train.shape)\n",
    "print(\"Testing dataset shape: \", X_test.shape)"
   ]
  },
  {
   "cell_type": "markdown",
   "metadata": {},
   "source": [
    "## Impurity Measures\n",
    "\n",
    "Implement the functions `calc_gini` (5 points) and `calc_entropy` (5 points) in the python file `hw2.py`. You are encouraged to test your implementation using the cell below."
   ]
  },
  {
   "cell_type": "code",
   "execution_count": 5,
   "metadata": {},
   "outputs": [
    {
     "name": "stdout",
     "output_type": "stream",
     "text": [
      "test : \n",
      "[[1 1]\n",
      " [1 1]\n",
      " [1 1]\n",
      " [1 1]\n",
      " [0 0]\n",
      " [0 0]]\n",
      "expected result of Gini in test is : 16/36 = 0.4444444444444444\n",
      "calc_gini result is : 0.4444444444444444\n",
      "expected result of Entropy in test is : 0.91829583405\n",
      "calc_entropy result is : 0.9182958340544896\n"
     ]
    }
   ],
   "source": [
    "# test\n",
    "test = np.array([[1, 1],[1, 1], [1, 1], [1, 1], [0, 0], [0, 0]])\n",
    "print(\"test : \")\n",
    "print(test)\n",
    "print(\"expected result of Gini in test is : 16/36 = 0.4444444444444444\")\n",
    "print(\"calc_gini result is : \" + str(calc_gini(test)))\n",
    "\n",
    "print(\"expected result of Entropy in test is : 0.91829583405\")\n",
    "print(\"calc_entropy result is : \" + str(calc_entropy(test)))"
   ]
  },
  {
   "cell_type": "code",
   "execution_count": 6,
   "metadata": {},
   "outputs": [
    {
     "name": "stdout",
     "output_type": "stream",
     "text": [
      "calc_gini according to X_train is : 0.47768299940488\n",
      "calc_entropy according to X_train is : 0.9675594819018212\n"
     ]
    }
   ],
   "source": [
    "print(\"calc_gini according to X_train is : \" + str(calc_gini(X_train)))\n",
    "print(\"calc_entropy according to X_train is : \" + str(calc_entropy(X_train)))"
   ]
  },
  {
   "cell_type": "markdown",
   "metadata": {},
   "source": [
    "## Building a Decision Tree\n",
    "\n",
    "Use a Python class to construct the decision tree (look at the `DecisionNode` class in the python file `hw2.py`. Your class should support the following functionality:\n",
    "\n",
    "1. Initiating a node for a decision tree. You will need to use several class methods and class attributes and you are free to use them as you see fit. We recommend that every node will hold the feature and value used for the split and its children.\n",
    "2. Your code should support both Gini and Entropy as impurity measures. \n",
    "3. The provided data includes continuous data. In this exercise, create at most a single split for each node of the tree. The threshold you need to use for this exercise are the average of each consecutive pair of values. For example, assume some features contains the following values: [1,2,3,4,5]. You should use the following thresholds [1.5, 2.5, 3.5, 4.5]. \n",
    "4. When constructing the tree, test all possible thresholds for each feature. The stopping criteria is a pure tree.\n",
    "\n",
    "Complete the class `DecisionNode` in the python file `hw2.py`. The structure of this class is entirely up to you. Complete the function `build_tree` in the python file `hw2.py`. This function should get the training dataset and the impurity as inputs, initiate a root for the decision tree and construct the tree according to the procedure you learned in class. (30 points)."
   ]
  },
  {
   "cell_type": "code",
   "execution_count": 7,
   "metadata": {},
   "outputs": [
    {
     "name": "stdout",
     "output_type": "stream",
     "text": [
      "feature index = 27\n",
      "best threshold = 0.14235\n",
      "[[1.200e+01 2.823e+01 7.677e+01 ... 2.447e-01 8.194e-02 1.000e+00]\n",
      " [1.157e+01 1.904e+01 7.420e+01 ... 3.035e-01 8.284e-02 1.000e+00]\n",
      " [1.316e+01 2.054e+01 8.406e+01 ... 2.687e-01 7.429e-02 1.000e+00]\n",
      " ...\n",
      " [1.460e+01 2.329e+01 9.397e+01 ... 2.477e-01 6.836e-02 0.000e+00]\n",
      " [1.808e+01 2.184e+01 1.174e+02 ... 2.369e-01 6.558e-02 0.000e+00]\n",
      " [1.008e+01 1.511e+01 6.376e+01 ... 2.933e-01 7.697e-02 1.000e+00]]\n",
      "-------------------------\n",
      "[[1.646e+01 2.011e+01 1.093e+02 ... 3.054e-01 9.519e-02 0.000e+00]\n",
      " [1.490e+01 2.253e+01 1.021e+02 ... 2.866e-01 1.155e-01 0.000e+00]\n",
      " [2.060e+01 2.933e+01 1.401e+02 ... 4.087e-01 1.240e-01 0.000e+00]\n",
      " ...\n",
      " [9.029e+00 1.733e+01 5.879e+01 ... 4.228e-01 1.175e-01 1.000e+00]\n",
      " [1.747e+01 2.468e+01 1.161e+02 ... 2.160e-01 9.300e-02 0.000e+00]\n",
      " [1.674e+01 2.159e+01 1.101e+02 ... 4.863e-01 8.633e-02 0.000e+00]]\n"
     ]
    }
   ],
   "source": [
    "# test on training dataset\n",
    "# threshold = 0.14235\n",
    "# feature = 27\n",
    "\n",
    "feature, best_thres, left_child, right_child = best_feature(X_train, calc_gini)\n",
    "print(\"feature index = \" + str(feature))\n",
    "print(\"best threshold = \" + str(best_thres))\n",
    "\n",
    "print(left_child)\n",
    "print(\"-------------------------\")\n",
    "print(right_child)"
   ]
  },
  {
   "cell_type": "code",
   "execution_count": 8,
   "metadata": {},
   "outputs": [
    {
     "name": "stdout",
     "output_type": "stream",
     "text": [
      "feature index = 1\n",
      "best threshold = 0.5\n",
      "[[1 0 0]\n",
      " [0 0 0]]\n",
      "-------------------------\n",
      "[[1 1 1]\n",
      " [0 1 1]]\n"
     ]
    }
   ],
   "source": [
    "# test\n",
    "# threshold = 0.5\n",
    "# feature = 1\n",
    "\n",
    "test = np.array([[1, 1, 1], [0, 1, 1], [1, 0, 0], [0, 0, 0]])\n",
    "\n",
    "feature, best_thres, left_child, right_child = best_feature(test, calc_gini)\n",
    "print(\"feature index = \" + str(feature))\n",
    "print(\"best threshold = \" + str(best_thres))\n",
    "\n",
    "print(left_child)\n",
    "print(\"-------------------------\")\n",
    "print(right_child)"
   ]
  },
  {
   "cell_type": "code",
   "execution_count": 9,
   "metadata": {},
   "outputs": [],
   "source": [
    "# python support passing a function as arguments to another function.\n",
    "tree_gini = build_tree(data=X_train, impurity=calc_gini) \n",
    "tree_entropy = build_tree(data=X_train, impurity=calc_entropy)"
   ]
  },
  {
   "cell_type": "code",
   "execution_count": 10,
   "metadata": {},
   "outputs": [
    {
     "name": "stdout",
     "output_type": "stream",
     "text": [
      "feature = 27\n",
      "value = 0.14235\n"
     ]
    }
   ],
   "source": [
    "# test - root should have feature = 27 and value = 0.14235\n",
    "\n",
    "print(\"feature = \" + str(tree_gini.feature))\n",
    "print(\"value = \" + str(tree_gini.value))"
   ]
  },
  {
   "cell_type": "markdown",
   "metadata": {},
   "source": [
    "## Tree evaluation\n",
    "\n",
    "Complete the functions `predict` and `calc_accuracy` in the python file `hw2.py`. You are allowed to implement this functionality as a class method.\n",
    "\n",
    "After building both trees using the training set (using Gini and Entropy as impurity measures), you should calculate the accuracy on the test set and print the measure that gave you the best test accuracy. For the rest of the exercise, use that impurity measure. (10 points)"
   ]
  },
  {
   "cell_type": "code",
   "execution_count": 11,
   "metadata": {},
   "outputs": [
    {
     "name": "stdout",
     "output_type": "stream",
     "text": [
      "accuracy on tree_gini with X_test = 93.00699300699301\n",
      "accuracy on tree_entropy with X_test = 93.7062937062937\n",
      "accuracy on tree_gini with X_train = 100.0\n",
      "accuracy on tree_entropy with X_train = 100.0\n"
     ]
    }
   ],
   "source": [
    "print(\"accuracy on tree_gini with X_test = \" + str(calc_accuracy(tree_gini, X_test)))\n",
    "print(\"accuracy on tree_entropy with X_test = \" + str(calc_accuracy(tree_entropy, X_test)))\n",
    "\n",
    "print(\"accuracy on tree_gini with X_train = \" + str(calc_accuracy(tree_gini, X_train)))\n",
    "print(\"accuracy on tree_entropy with X_train = \" + str(calc_accuracy(tree_entropy, X_train)))"
   ]
  },
  {
   "cell_type": "markdown",
   "metadata": {},
   "source": [
    "## Chi square pre-pruning\n",
    "\n",
    "Consider the following p-value cut-off values: [1 (no pruning), 0.01, 0.005, 0.001, 0.0005, 0.0001, 0.00001]. For each value, construct a tree and prune it according to the cut-off value. Next, calculate the training and testing accuracy. On a single plot, draw the training and testing accuracy as a function of the p-value. What p-value gives you the best results? Does the results support the theory you learned in class regarding Chi square pruning? Explain. (20 points)\n",
    "\n",
    "**Note**: You need to change the `DecisionNode` to support Chi square pruning. Make sure the `chi_value=1` corresponds to no pruning. The values you need from the Chi square table are available in the python file `hw2.py`."
   ]
  },
  {
   "cell_type": "code",
   "execution_count": 12,
   "metadata": {},
   "outputs": [
    {
     "name": "stdout",
     "output_type": "stream",
     "text": [
      "current chi value = 1 : test accuracy = 93.7062937062937\n",
      "current chi value = 0.01 : test accuracy = 94.4055944055944\n",
      "current chi value = 0.005 : test accuracy = 94.4055944055944\n",
      "current chi value = 0.001 : test accuracy = 91.6083916083916\n",
      "current chi value = 0.0005 : test accuracy = 91.6083916083916\n",
      "current chi value = 0.0001 : test accuracy = 92.3076923076923\n",
      "current chi value = 1e-05 : test accuracy = 92.3076923076923\n",
      "--------------------------------------------------------------\n",
      "current chi value = 1 : train accuracy = 100.0\n",
      "current chi value = 0.01 : train accuracy = 99.53051643192488\n",
      "current chi value = 0.005 : train accuracy = 98.82629107981221\n",
      "current chi value = 0.001 : train accuracy = 96.71361502347418\n",
      "current chi value = 0.0005 : train accuracy = 96.71361502347418\n",
      "current chi value = 0.0001 : train accuracy = 95.53990610328638\n",
      "current chi value = 1e-05 : train accuracy = 95.53990610328638\n"
     ]
    }
   ],
   "source": [
    "training = []\n",
    "testing  = []\n",
    "\n",
    "for chi_value in [1, 0.01, 0.005, 0.001, 0.0005, 0.0001, 0.00001]:\n",
    "    test_root = build_tree(X_train, calc_entropy, chi_value)\n",
    "    accuracy = calc_accuracy(test_root, X_test)\n",
    "    print (\"current chi value = \" + str(chi_value) + \" : test accuracy = \" + str(accuracy))\n",
    "    testing.append(accuracy)\n",
    "    \n",
    "print(\"--------------------------------------------------------------\")\n",
    "\n",
    "for chi_value in [1, 0.01, 0.005, 0.001, 0.0005, 0.0001, 0.00001]:\n",
    "    train_root = build_tree(X_train, calc_entropy, chi_value)\n",
    "    accuracy = calc_accuracy(train_root, X_train)\n",
    "    print (\"current chi value = \" + str(chi_value) + \" : train accuracy = \" + str(accuracy))\n",
    "    training.append(accuracy)\n"
   ]
  },
  {
   "cell_type": "code",
   "execution_count": 13,
   "metadata": {},
   "outputs": [
    {
     "data": {
      "image/png": "[encoded data removed]",
      "text/plain": [
       "<Figure size 432x288 with 1 Axes>"
      ]
     },
     "metadata": {
      "needs_background": "light"
     },
     "output_type": "display_data"
    }
   ],
   "source": [
    "chi_values = [1, 0.01, 0.005, 0.001, 0.0005, 0.0001, 0.00001]\n",
    "plt.plot(chi_values, training, 'g')\n",
    "plt.plot(chi_values, testing,'b')\n",
    "plt.xscale('log')\n",
    "plt.xlabel('p-values')\n",
    "plt.ylabel('accuracy')\n",
    "plt.title('accuracy as a function of chi-values')\n",
    "plt.legend(['X_train', 'X_test'])\n",
    "plt.show()"
   ]
  },
  {
   "cell_type": "markdown",
   "metadata": {},
   "source": [
    "The results matching what we studied in class.\n",
    "The graph on the train data is increasing according to the growing of the p value \n",
    "If p value is 1 we are getting accuracy of 100% because we need all the leafs to be pure and the number of nodes in the tree will be the highst.\n",
    "The higher p value, we will get more nodes in the tree because the leafs are more pure.\n",
    "\n",
    "When we look at thegraph of the testing data  we can see that the accuracy is increasing up some point until it gets to p value=0.01 when it reaches the highes point and then starts to decline. This fits our prediction because as we stated the higher p value is the more nodes we have in our tree, and as we learnd in class when all the leafs are pure we can bulid the tree with overfitting, means on the test data we woun't get the highest accuracy."
   ]
  },
  {
   "cell_type": "markdown",
   "metadata": {},
   "source": [
    "## Post pruning\n",
    "\n",
    "Construct a decision tree without Chi square pruning. For each leaf in the tree, calculate the test accuracy of the tree assuming no split occurred on the parent of that leaf and find the best such parent (in the sense that not splitting on that parent results in the best testing accuracy among possible parents). Make that parent into a leaf and repeat this process until you are left with just the root. On a single plot, draw the training and testing accuracy as a function of the number of internal nodes in the tree. Explain the results: what would happen to the training and testing accuracies when you remove nodes from the tree? Can you suggest a different approach to achieve better results? (20 points)"
   ]
  },
  {
   "cell_type": "code",
   "execution_count": 14,
   "metadata": {},
   "outputs": [],
   "source": [
    "root = build_tree(X_train, calc_entropy)"
   ]
  },
  {
   "cell_type": "code",
   "execution_count": 15,
   "metadata": {},
   "outputs": [
    {
     "name": "stdout",
     "output_type": "stream",
     "text": [
      "15\n"
     ]
    }
   ],
   "source": [
    "print(number_of_internal_nodes(root))"
   ]
  },
  {
   "cell_type": "code",
   "execution_count": 16,
   "metadata": {},
   "outputs": [
    {
     "name": "stdout",
     "output_type": "stream",
     "text": [
      "internal_nodes = \n",
      "[15, 14, 12, 11, 8, 7, 6, 4, 2, 1, 1]\n",
      "train_accuracy = \n",
      "[100.0, 99.76525821596243, 99.53051643192488, 99.53051643192488, 98.59154929577466, 98.35680751173709, 98.12206572769952, 96.47887323943662, 94.83568075117371, 92.72300469483568, 60.56338028169014]\n",
      "test_accuracy = \n",
      "[93.7062937062937, 94.4055944055944, 94.4055944055944, 94.4055944055944, 94.4055944055944, 94.4055944055944, 94.4055944055944, 93.7062937062937, 93.00699300699301, 89.5104895104895, 69.23076923076923]\n"
     ]
    }
   ],
   "source": [
    "internal_nodes, train_accuracy, test_accuracy = post_pruning(root, X_train, X_test)\n",
    "#test_intenal_nodes, test_accuracy = post_pruning(test_root, X_test)\n",
    "\n",
    "print(\"internal_nodes = \" )\n",
    "print(internal_nodes)\n",
    "print(\"train_accuracy = \")\n",
    "print(train_accuracy)\n",
    "print(\"test_accuracy = \")\n",
    "print(test_accuracy)"
   ]
  },
  {
   "cell_type": "code",
   "execution_count": 17,
   "metadata": {},
   "outputs": [
    {
     "data": {
      "image/png": "[encoded data removed]",
      "text/plain": [
       "<Figure size 432x288 with 1 Axes>"
      ]
     },
     "metadata": {
      "needs_background": "light"
     },
     "output_type": "display_data"
    }
   ],
   "source": [
    "plt.plot(internal_nodes, train_accuracy, 'g')\n",
    "plt.plot(internal_nodes, test_accuracy,'b')\n",
    "plt.xlabel('number of internal nodes')\n",
    "plt.ylabel('accuracy')\n",
    "plt.title('accuracy as a function of the number of internal nodes')\n",
    "plt.legend(['X_train', 'X_test'])\n",
    "plt.show()"
   ]
  },
  {
   "cell_type": "markdown",
   "metadata": {},
   "source": [
    "Training set curve -we can see that the accuracy begins at a maximum point - 100 %, since we begin the process from the leaves, in which purity is obtained.\n",
    "As we progress through the process, we will rise in the tree and so will the pure ones.\n",
    "\n",
    "Testing set curve- we can see that the accuracy begins at increasing progress and at some point starts decreasing. The reason for the that behavior is the fact that the tree was built according to the given set, so at some point over-fitting was accrued and so the accuracy was reduced. Therefore, at the starting point, at the leaves of the tree, we get a low purity which will rise as we progress in the tree to any maximum point where it begins to decrease, we go back to knowing nothing about our data.\n",
    "\n",
    "To sum up, we would like to achieve better results by checking the accuracy during growing the tree, in other words to run pre-pruning algorithm."
   ]
  },
  {
   "cell_type": "markdown",
   "metadata": {},
   "source": [
    "## Print the tree\n",
    "\n",
    "Complete the function `print_tree` in the python file `hw2.py` and print the tree using the chosen impurity measure and no pruning. Your code should like something like this (10 points):\n",
    "```\n",
    "[X0 <= 1],\n",
    "  [X1 <= 2]\n",
    "    [X2 <= 3], \n",
    "       leaf: [{1.0: 10}]\n",
    "       leaf: [{0.0: 10}]\n",
    "    [X4 <= 5], \n",
    "       leaf: [{1.0: 5}]\n",
    "       leaf: [{0.0: 10}]\n",
    "   leaf: [{1.0: 50}]\n",
    "```\n"
   ]
  },
  {
   "cell_type": "code",
   "execution_count": 18,
   "metadata": {},
   "outputs": [
    {
     "name": "stdout",
     "output_type": "stream",
     "text": [
      "[X27 <= 0.14235],\n",
      "  [X3 <= 696.25],\n",
      "    [X27 <= 0.1349],\n",
      "      [X10 <= 0.62555],\n",
      "        [X21 <= 33.349999999999994],\n",
      "          leaf: [{1: 216}]\n",
      "          [X21 <= 33.56],\n",
      "            leaf: [{0: 1}]\n",
      "            leaf: [{1: 17}]\n",
      "        [X1 <= 18.630000000000003],\n",
      "          leaf: [{0: 1}]\n",
      "          leaf: [{1: 2}]\n",
      "      [X15 <= 0.02744],\n",
      "        [X0 <= 13.225000000000001],\n",
      "          leaf: [{1: 1}]\n",
      "          leaf: [{0: 4}]\n",
      "        leaf: [{1: 6}]\n",
      "    [X1 <= 19.72],\n",
      "      [X6 <= 0.073105],\n",
      "        leaf: [{1: 7}]\n",
      "        leaf: [{0: 3}]\n",
      "      leaf: [{0: 13}]\n",
      "  [X13 <= 21.924999999999997],\n",
      "    [X21 <= 29.0],\n",
      "      [X1 <= 20.52],\n",
      "        leaf: [{1: 8}]\n",
      "        leaf: [{0: 1}]\n",
      "      leaf: [{0: 5}]\n",
      "    [X4 <= 0.079285],\n",
      "      leaf: [{1: 1}]\n",
      "      leaf: [{0: 140}]\n"
     ]
    }
   ],
   "source": [
    "root = build_tree(X_train, calc_entropy)\n",
    "print_tree(root)"
   ]
  }
 ],
 "metadata": {
  "kernelspec": {
   "display_name": "Python 3",
   "language": "python",
   "name": "python3"
  },
  "language_info": {
   "codemirror_mode": {
    "name": "ipython",
    "version": 3
   },
   "file_extension": ".py",
   "mimetype": "text/x-python",
   "name": "python",
   "nbconvert_exporter": "python",
   "pygments_lexer": "ipython3",
   "version": "3.7.1"
  }
 },
 "nbformat": 4,
 "nbformat_minor": 2
}
